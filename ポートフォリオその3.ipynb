{
  "nbformat": 4,
  "nbformat_minor": 0,
  "metadata": {
    "colab": {
      "provenance": [],
      "authorship_tag": "ABX9TyPgXvMTqdGiQUnkEbx++WB3"
    },
    "kernelspec": {
      "name": "python3",
      "display_name": "Python 3"
    },
    "language_info": {
      "name": "python"
    }
  },
  "cells": [
    {
      "cell_type": "markdown",
      "source": [
        "### キャスト\n",
        "\n",
        "*   数値を文字列に変換したりする\n",
        "*   データ型を別の形に変換する\n",
        "\n"
      ],
      "metadata": {
        "id": "FimW1faDKKte"
      }
    },
    {
      "cell_type": "code",
      "source": [
        "# 変数threeに3を代入\n",
        "three = 3\n",
        "\n",
        "# threeのタイプを確認し変数の中身を表示\n",
        "print(type(three))\n",
        "print(three)\n",
        "\n",
        "# 文字列にキャスト\n",
        "three_str = str(three)\n",
        "\n",
        "# threeのタイプを確認し変数の中身を表示\n",
        "print(type(three_str))\n",
        "print(three_str)"
      ],
      "metadata": {
        "colab": {
          "base_uri": "https://localhost:8080/"
        },
        "id": "h0cSkhTJKlTK",
        "outputId": "22386d5b-0512-45aa-d7d2-fc6b0af21445"
      },
      "execution_count": null,
      "outputs": [
        {
          "output_type": "stream",
          "name": "stdout",
          "text": [
            "<class 'int'>\n",
            "3\n",
            "<class 'str'>\n",
            "3\n"
          ]
        }
      ]
    },
    {
      "cell_type": "code",
      "source": [
        "# int型にキャスト\n",
        "three_int = int(three)\n",
        "\n",
        "# threeのタイプを確認し変数の中身を表示\n",
        "print(type(three_int))\n",
        "print(three_int)\n",
        "\n",
        "# 変数three(int型)とthree_str(str型)は違うのでfalseが出る\n",
        "print(three == three_str)\n",
        "\n",
        "# 変数three(int型)とthree_int(int型)はおなじなのでtrueが出る\n",
        "print(three == three_int)"
      ],
      "metadata": {
        "colab": {
          "base_uri": "https://localhost:8080/"
        },
        "id": "WPO9CdX6LtyN",
        "outputId": "4c67365d-b96c-4791-98a8-011ba4035481"
      },
      "execution_count": null,
      "outputs": [
        {
          "output_type": "stream",
          "name": "stdout",
          "text": [
            "<class 'int'>\n",
            "3\n",
            "False\n",
            "True\n"
          ]
        }
      ]
    },
    {
      "cell_type": "markdown",
      "source": [
        "### while文\n",
        "*   while文は繰り返しの回数が決まっておらず、条件を満たしている限り処理を繰り返したい場合。\n",
        "*   for文とwhile文の違いは繰り返し回数が決まっているか決まっていないか\n",
        "\n"
      ],
      "metadata": {
        "id": "6PR7P2URL52G"
      }
    },
    {
      "cell_type": "code",
      "source": [
        "# while文でiが100になるまで出力を続けるプログラム\n",
        "\n",
        "i = 0\n",
        "\n",
        "while i < 100:\n",
        "    i = i + 1\n",
        "    print(i)"
      ],
      "metadata": {
        "colab": {
          "base_uri": "https://localhost:8080/"
        },
        "id": "ri4Vza7vMvc4",
        "outputId": "8203073c-87d9-4a57-b8dc-ddbd0dd97e49"
      },
      "execution_count": null,
      "outputs": [
        {
          "output_type": "stream",
          "name": "stdout",
          "text": [
            "1\n",
            "2\n",
            "3\n",
            "4\n",
            "5\n",
            "6\n",
            "7\n",
            "8\n",
            "9\n",
            "10\n",
            "11\n",
            "12\n",
            "13\n",
            "14\n",
            "15\n",
            "16\n",
            "17\n",
            "18\n",
            "19\n",
            "20\n",
            "21\n",
            "22\n",
            "23\n",
            "24\n",
            "25\n",
            "26\n",
            "27\n",
            "28\n",
            "29\n",
            "30\n",
            "31\n",
            "32\n",
            "33\n",
            "34\n",
            "35\n",
            "36\n",
            "37\n",
            "38\n",
            "39\n",
            "40\n",
            "41\n",
            "42\n",
            "43\n",
            "44\n",
            "45\n",
            "46\n",
            "47\n",
            "48\n",
            "49\n",
            "50\n",
            "51\n",
            "52\n",
            "53\n",
            "54\n",
            "55\n",
            "56\n",
            "57\n",
            "58\n",
            "59\n",
            "60\n",
            "61\n",
            "62\n",
            "63\n",
            "64\n",
            "65\n",
            "66\n",
            "67\n",
            "68\n",
            "69\n",
            "70\n",
            "71\n",
            "72\n",
            "73\n",
            "74\n",
            "75\n",
            "76\n",
            "77\n",
            "78\n",
            "79\n",
            "80\n",
            "81\n",
            "82\n",
            "83\n",
            "84\n",
            "85\n",
            "86\n",
            "87\n",
            "88\n",
            "89\n",
            "90\n",
            "91\n",
            "92\n",
            "93\n",
            "94\n",
            "95\n",
            "96\n",
            "97\n",
            "98\n",
            "99\n",
            "100\n"
          ]
        }
      ]
    },
    {
      "cell_type": "code",
      "source": [
        "# 簡略型\n",
        "\n",
        "i = 0\n",
        "\n",
        "while i < 100:\n",
        "    i += 1\n",
        "    print(i)"
      ],
      "metadata": {
        "colab": {
          "base_uri": "https://localhost:8080/"
        },
        "id": "3s5iqvUOM5Fo",
        "outputId": "1cc1ff77-992c-4b84-cc3f-6e542fb5806d"
      },
      "execution_count": null,
      "outputs": [
        {
          "output_type": "stream",
          "name": "stdout",
          "text": [
            "1\n",
            "2\n",
            "3\n",
            "4\n",
            "5\n",
            "6\n",
            "7\n",
            "8\n",
            "9\n",
            "10\n",
            "11\n",
            "12\n",
            "13\n",
            "14\n",
            "15\n",
            "16\n",
            "17\n",
            "18\n",
            "19\n",
            "20\n",
            "21\n",
            "22\n",
            "23\n",
            "24\n",
            "25\n",
            "26\n",
            "27\n",
            "28\n",
            "29\n",
            "30\n",
            "31\n",
            "32\n",
            "33\n",
            "34\n",
            "35\n",
            "36\n",
            "37\n",
            "38\n",
            "39\n",
            "40\n",
            "41\n",
            "42\n",
            "43\n",
            "44\n",
            "45\n",
            "46\n",
            "47\n",
            "48\n",
            "49\n",
            "50\n",
            "51\n",
            "52\n",
            "53\n",
            "54\n",
            "55\n",
            "56\n",
            "57\n",
            "58\n",
            "59\n",
            "60\n",
            "61\n",
            "62\n",
            "63\n",
            "64\n",
            "65\n",
            "66\n",
            "67\n",
            "68\n",
            "69\n",
            "70\n",
            "71\n",
            "72\n",
            "73\n",
            "74\n",
            "75\n",
            "76\n",
            "77\n",
            "78\n",
            "79\n",
            "80\n",
            "81\n",
            "82\n",
            "83\n",
            "84\n",
            "85\n",
            "86\n",
            "87\n",
            "88\n",
            "89\n",
            "90\n",
            "91\n",
            "92\n",
            "93\n",
            "94\n",
            "95\n",
            "96\n",
            "97\n",
            "98\n",
            "99\n",
            "100\n"
          ]
        }
      ]
    },
    {
      "cell_type": "code",
      "source": [
        "# breakで0~9まで出力するときに、5で中断するプログラム\n",
        "\n",
        "i = 0\n",
        "\n",
        "while i < 10:\n",
        "    print(i)\n",
        "    i += 1\n",
        "    if i == 5:\n",
        "        break"
      ],
      "metadata": {
        "colab": {
          "base_uri": "https://localhost:8080/"
        },
        "id": "couLSf9yM9VP",
        "outputId": "b909cb84-5599-4dd3-92ab-d47f0c8580fa"
      },
      "execution_count": null,
      "outputs": [
        {
          "output_type": "stream",
          "name": "stdout",
          "text": [
            "0\n",
            "1\n",
            "2\n",
            "3\n",
            "4\n"
          ]
        }
      ]
    },
    {
      "cell_type": "markdown",
      "source": [
        "### 集合\n",
        "\n",
        "\n",
        "\n",
        "*   Pythonにおけるリストや辞書に似た複数の値を扱う事が出来るデータ型\n",
        "*   数学の集合の概念と似ている\n",
        "\n",
        "\n",
        "\n"
      ],
      "metadata": {
        "id": "OKFLulMwNQRf"
      }
    },
    {
      "cell_type": "code",
      "source": [
        "# 1～5までを格納した集合をaに入れる\n",
        "a = {1, 2, 3, 4, 5}\n",
        "print(a)\n",
        "\n",
        "# 型確認\n",
        "print(type(a))"
      ],
      "metadata": {
        "colab": {
          "base_uri": "https://localhost:8080/"
        },
        "id": "VcoRKb7VNwCv",
        "outputId": "3c037b23-5e9f-40fb-b95f-c77fb041b38c"
      },
      "execution_count": null,
      "outputs": [
        {
          "output_type": "stream",
          "name": "stdout",
          "text": [
            "{1, 2, 3, 4, 5}\n",
            "<class 'set'>\n"
          ]
        }
      ]
    },
    {
      "cell_type": "code",
      "source": [
        "# 間違って同じ数字を格納した場合、重複部分が削除される。リストやタプルにはない機能。\n",
        "b = {1, 2, 3, 3, 4}\n",
        "print(b)"
      ],
      "metadata": {
        "colab": {
          "base_uri": "https://localhost:8080/"
        },
        "id": "ZHUi-Vh-O8hX",
        "outputId": "de767a72-323a-49e4-88d7-cf4845abca19"
      },
      "execution_count": null,
      "outputs": [
        {
          "output_type": "stream",
          "name": "stdout",
          "text": [
            "{1, 2, 3, 4}\n"
          ]
        }
      ]
    },
    {
      "cell_type": "code",
      "source": [
        "# 順序が1から順になる。\n",
        "c = {4, 3, 2, 1}\n",
        "print(c)"
      ],
      "metadata": {
        "colab": {
          "base_uri": "https://localhost:8080/"
        },
        "id": "2JK0o_RKO_IF",
        "outputId": "494927c2-7fe6-4a8f-8fcf-fd6774784a58"
      },
      "execution_count": null,
      "outputs": [
        {
          "output_type": "stream",
          "name": "stdout",
          "text": [
            "{1, 2, 3, 4}\n"
          ]
        }
      ]
    },
    {
      "cell_type": "code",
      "source": [
        "# 集合の演算\n",
        "a = {1, 2, 3, 4, 5,}\n",
        "print('a:', a)\n",
        "\n",
        "b = {2, 3, 5, 7, 9}\n",
        "print('b:', b)\n",
        "\n",
        "# aとbの差\n",
        "print(a - b)  # aにある2,3,5はbにもあるので1,4しか残らなくなる\n",
        "\n",
        "# bとaの差\n",
        "print(b - a)  # bにある2,3,5はaにもあるので9,7しか残らなくなる\n",
        "\n",
        "# aとbの積集合\n",
        "print(a & b)  # aとbの共通部分が取り出される\n",
        "\n",
        "# aとbの和集合\n",
        "print(a | b) # aとbを合わせたもの\n",
        "\n",
        "# aとbの排他的論理和\n",
        "print(a ^ b) # 共通部分を除いたもの"
      ],
      "metadata": {
        "colab": {
          "base_uri": "https://localhost:8080/"
        },
        "id": "kuFNjF1YPBSS",
        "outputId": "162b3ef6-9b9a-4b32-f1c9-2a9b4f41e3b5"
      },
      "execution_count": null,
      "outputs": [
        {
          "output_type": "stream",
          "name": "stdout",
          "text": [
            "a: {1, 2, 3, 4, 5}\n",
            "b: {2, 3, 5, 7, 9}\n",
            "{1, 4}\n",
            "{9, 7}\n",
            "{2, 3, 5}\n",
            "{1, 2, 3, 4, 5, 7, 9}\n",
            "{1, 4, 7, 9}\n"
          ]
        }
      ]
    },
    {
      "cell_type": "markdown",
      "source": [
        "### ラムダ式"
      ],
      "metadata": {
        "id": "ZC6SvsYYPDuR"
      }
    },
    {
      "cell_type": "code",
      "source": [
        "# 引数値を半分にする関数を作成\n",
        "def half_value(x):\n",
        "    return x / 2\n",
        "\n",
        "# 引数に2を渡して、関数を実行\n",
        "r = half_value(2)\n",
        "print(r)"
      ],
      "metadata": {
        "id": "3r2t-Lp2PN8l",
        "colab": {
          "base_uri": "https://localhost:8080/"
        },
        "outputId": "42cad7df-a6b2-4781-c9e6-279de3ae3e30"
      },
      "execution_count": 1,
      "outputs": [
        {
          "output_type": "stream",
          "name": "stdout",
          "text": [
            "1.0\n"
          ]
        }
      ]
    },
    {
      "cell_type": "code",
      "source": [
        "# ラムダ式の場合\n",
        "half_value_v2 = lambda x: x / 2\n",
        "r2 = half_value_v2(2)\n",
        "print(r2)\n",
        "\n",
        "# def 関数名(引数):\n",
        "# return 返り値\n",
        "\n",
        "# lambdaだと\n",
        "# lambda 引数: 返り値\n",
        "\n",
        "\n",
        "# lambda式は無名関数とも言われていて、関数名がいらない。簡単な処理の場合はコチラを使う"
      ],
      "metadata": {
        "colab": {
          "base_uri": "https://localhost:8080/"
        },
        "id": "Ud5GjBTx3CAD",
        "outputId": "39c6427f-698e-4c9d-852e-97da5daae6e4"
      },
      "execution_count": 2,
      "outputs": [
        {
          "output_type": "stream",
          "name": "stdout",
          "text": [
            "1.0\n"
          ]
        }
      ]
    },
    {
      "cell_type": "code",
      "source": [
        "# 関数の作成\n",
        "def f(x):\n",
        "    if x % 2 == 0:\n",
        "        return x\n",
        "    else:\n",
        "        return '2で割り切れません！！'\n",
        "r = f(2)\n",
        "print(r)"
      ],
      "metadata": {
        "colab": {
          "base_uri": "https://localhost:8080/"
        },
        "id": "F_ICKydj3TET",
        "outputId": "ed628280-dd52-4479-b9cb-0a8e2502cede"
      },
      "execution_count": 3,
      "outputs": [
        {
          "output_type": "stream",
          "name": "stdout",
          "text": [
            "2\n"
          ]
        }
      ]
    },
    {
      "cell_type": "code",
      "source": [
        "# 上記をラムダ式で書く\n",
        "f2 = lambda x: x if x % 2 == 0 else '2で割り切れません！！'\n",
        "r2 = f2(3)\n",
        "print(r2)"
      ],
      "metadata": {
        "colab": {
          "base_uri": "https://localhost:8080/"
        },
        "id": "rIibb4ox3Tjv",
        "outputId": "3d27313b-4e52-4a37-ada6-4f829be7f607"
      },
      "execution_count": 4,
      "outputs": [
        {
          "output_type": "stream",
          "name": "stdout",
          "text": [
            "2で割り切れません！！\n"
          ]
        }
      ]
    },
    {
      "cell_type": "markdown",
      "source": [
        "### 例外処理"
      ],
      "metadata": {
        "id": "YR7MZJXf3dIp"
      }
    },
    {
      "cell_type": "code",
      "source": [
        "# 2つの変数を足し合わせる関数を作る\n",
        "add_num = lambda a, b: a + b\n",
        "\n",
        "# 数字の1と文字列の\"2\"を引数で渡す\n",
        "add_num(1, '2')\n",
        "\n",
        "# このコードだと、str(文字列)とint(数字)の足し算は出来ないよとエラーが出る"
      ],
      "metadata": {
        "colab": {
          "base_uri": "https://localhost:8080/",
          "height": 381
        },
        "id": "BXc4w6qy3jFF",
        "outputId": "3b324b24-91eb-49f5-f19f-a78f33d86784"
      },
      "execution_count": 5,
      "outputs": [
        {
          "output_type": "error",
          "ename": "TypeError",
          "evalue": "ignored",
          "traceback": [
            "\u001b[0;31m---------------------------------------------------------------------------\u001b[0m",
            "\u001b[0;31mTypeError\u001b[0m                                 Traceback (most recent call last)",
            "\u001b[0;32m<ipython-input-5-e14451917e90>\u001b[0m in \u001b[0;36m<cell line: 5>\u001b[0;34m()\u001b[0m\n\u001b[1;32m      3\u001b[0m \u001b[0;34m\u001b[0m\u001b[0m\n\u001b[1;32m      4\u001b[0m \u001b[0;31m# 数字の1と文字列の\"2\"を引数で渡す\u001b[0m\u001b[0;34m\u001b[0m\u001b[0;34m\u001b[0m\u001b[0m\n\u001b[0;32m----> 5\u001b[0;31m \u001b[0madd_num\u001b[0m\u001b[0;34m(\u001b[0m\u001b[0;36m1\u001b[0m\u001b[0;34m,\u001b[0m \u001b[0;34m'2'\u001b[0m\u001b[0;34m)\u001b[0m\u001b[0;34m\u001b[0m\u001b[0;34m\u001b[0m\u001b[0m\n\u001b[0m\u001b[1;32m      6\u001b[0m \u001b[0;34m\u001b[0m\u001b[0m\n\u001b[1;32m      7\u001b[0m \u001b[0;31m# このコードだと、str(文字列)とint(数字)の足し算は出来ないよとエラーが出る\u001b[0m\u001b[0;34m\u001b[0m\u001b[0;34m\u001b[0m\u001b[0m\n",
            "\u001b[0;32m<ipython-input-5-e14451917e90>\u001b[0m in \u001b[0;36m<lambda>\u001b[0;34m(a, b)\u001b[0m\n\u001b[1;32m      1\u001b[0m \u001b[0;31m# 2つの変数を足し合わせる関数を作る\u001b[0m\u001b[0;34m\u001b[0m\u001b[0;34m\u001b[0m\u001b[0m\n\u001b[0;32m----> 2\u001b[0;31m \u001b[0madd_num\u001b[0m \u001b[0;34m=\u001b[0m \u001b[0;32mlambda\u001b[0m \u001b[0ma\u001b[0m\u001b[0;34m,\u001b[0m \u001b[0mb\u001b[0m\u001b[0;34m:\u001b[0m \u001b[0ma\u001b[0m \u001b[0;34m+\u001b[0m \u001b[0mb\u001b[0m\u001b[0;34m\u001b[0m\u001b[0;34m\u001b[0m\u001b[0m\n\u001b[0m\u001b[1;32m      3\u001b[0m \u001b[0;34m\u001b[0m\u001b[0m\n\u001b[1;32m      4\u001b[0m \u001b[0;31m# 数字の1と文字列の\"2\"を引数で渡す\u001b[0m\u001b[0;34m\u001b[0m\u001b[0;34m\u001b[0m\u001b[0m\n\u001b[1;32m      5\u001b[0m \u001b[0madd_num\u001b[0m\u001b[0;34m(\u001b[0m\u001b[0;36m1\u001b[0m\u001b[0;34m,\u001b[0m \u001b[0;34m'2'\u001b[0m\u001b[0;34m)\u001b[0m\u001b[0;34m\u001b[0m\u001b[0;34m\u001b[0m\u001b[0m\n",
            "\u001b[0;31mTypeError\u001b[0m: unsupported operand type(s) for +: 'int' and 'str'"
          ]
        }
      ]
    },
    {
      "cell_type": "code",
      "source": [
        "# エラーハンドリングを実装する。エラーが出ても出力する。\n",
        "try:\n",
        "    add_num = lambda a, b: a + b\n",
        "    r = add_num(1, '2')\n",
        "except:\n",
        "    print('例外が発生しました')\n",
        "print('例外処理を終わりました。')"
      ],
      "metadata": {
        "colab": {
          "base_uri": "https://localhost:8080/"
        },
        "id": "f7svH3mS3nMb",
        "outputId": "cee44b58-0fbe-4985-f7e9-516933833eae"
      },
      "execution_count": 6,
      "outputs": [
        {
          "output_type": "stream",
          "name": "stdout",
          "text": [
            "例外が発生しました\n",
            "例外処理を終わりました。\n"
          ]
        }
      ]
    },
    {
      "cell_type": "code",
      "source": [
        "# エラー時には原因を出力するようにする\n",
        "try:\n",
        "    add_num = lambda a, b: a + b\n",
        "    r = add_num(1, '2')\n",
        "except TypeError as e:    # TypeErrorはエラーの原因を特定できる\n",
        "    print(e)\n",
        "    print('例外が発生しました')\n",
        "print('例外処理を終わりました。')"
      ],
      "metadata": {
        "colab": {
          "base_uri": "https://localhost:8080/"
        },
        "id": "qIRyHiga3u11",
        "outputId": "2872ece7-13eb-444a-b2c8-ca971c1d7e46"
      },
      "execution_count": 7,
      "outputs": [
        {
          "output_type": "stream",
          "name": "stdout",
          "text": [
            "unsupported operand type(s) for +: 'int' and 'str'\n",
            "例外が発生しました\n",
            "例外処理を終わりました。\n"
          ]
        }
      ]
    },
    {
      "cell_type": "code",
      "source": [
        "# 数字の1と数字の2を足し合わせる\n",
        "add_num = lambda a, b: a + b\n",
        "try:\n",
        "    r = add_num(1, 2)\n",
        "    print(r)\n",
        "except TypeError as e:\n",
        "    print(e)\n",
        "    print('例外が発生しました')\n",
        "\n",
        "print('例外処理を終わりました。')"
      ],
      "metadata": {
        "colab": {
          "base_uri": "https://localhost:8080/"
        },
        "id": "br9-Qtn13yHx",
        "outputId": "f2e09249-26c5-49c1-9772-a59aefde1d67"
      },
      "execution_count": 8,
      "outputs": [
        {
          "output_type": "stream",
          "name": "stdout",
          "text": [
            "3\n",
            "例外処理を終わりました。\n"
          ]
        }
      ]
    },
    {
      "cell_type": "code",
      "source": [
        "# else句を追加する\n",
        "try:\n",
        "    r = add_num(1, 2)\n",
        "except TypeError as e:\n",
        "    print(e)\n",
        "    print('例外が発生しました')\n",
        "else:   # tryがあっていたら出力する\n",
        "    print(r)\n",
        "\n",
        "print('例外処理を終わりました。')"
      ],
      "metadata": {
        "colab": {
          "base_uri": "https://localhost:8080/"
        },
        "id": "zebWJ6G9307x",
        "outputId": "264d1d91-1ba5-44de-8d34-a1a7a1e20d72"
      },
      "execution_count": 9,
      "outputs": [
        {
          "output_type": "stream",
          "name": "stdout",
          "text": [
            "3\n",
            "例外処理を終わりました。\n"
          ]
        }
      ]
    },
    {
      "cell_type": "code",
      "source": [
        "# 数字の1と文字列の2を足し合わせる\n",
        "try:\n",
        "    r = add_num(1, \"2\")\n",
        "except TypeError as e:\n",
        "    print(e)\n",
        "    print('例外が発生しました')\n",
        "else:\n",
        "    print(r)\n",
        "\n",
        "print('例外処理を終わりました。')"
      ],
      "metadata": {
        "colab": {
          "base_uri": "https://localhost:8080/"
        },
        "id": "2ZYh-Wge33VA",
        "outputId": "4b218ab3-9b40-4122-f1fd-66c58ac91df3"
      },
      "execution_count": 10,
      "outputs": [
        {
          "output_type": "stream",
          "name": "stdout",
          "text": [
            "unsupported operand type(s) for +: 'int' and 'str'\n",
            "例外が発生しました\n",
            "例外処理を終わりました。\n"
          ]
        }
      ]
    },
    {
      "cell_type": "code",
      "source": [
        "# finallyを実装し、数字の1と数字の2を足し合わせる\n",
        "try:\n",
        "    r = add_num(1, 2)\n",
        "except TypeError as e:\n",
        "    print(e)\n",
        "    print('例外が発生しました')\n",
        "else:\n",
        "    print(r)\n",
        "finally:\n",
        "    print('例外処理を終わりました！')\n",
        "\n",
        "print('例外処理を終わりました。')"
      ],
      "metadata": {
        "colab": {
          "base_uri": "https://localhost:8080/"
        },
        "id": "Jo-uEJE93-1M",
        "outputId": "5f383794-8ba4-4532-bfb5-3e345aa25d7b"
      },
      "execution_count": 11,
      "outputs": [
        {
          "output_type": "stream",
          "name": "stdout",
          "text": [
            "3\n",
            "例外処理を終わりました！\n",
            "例外処理を終わりました。\n"
          ]
        }
      ]
    },
    {
      "cell_type": "code",
      "source": [
        "# finallyを実装し、数字の1と文字列の2を足し合わせる\n",
        "try:\n",
        "    r = add_num(1, '2')\n",
        "except TypeError as e:\n",
        "    print(e)\n",
        "    print('例外が発生しました')\n",
        "else:\n",
        "    print(r)\n",
        "finally:\n",
        "    print('例外処理を終わりました！')\n",
        "\n",
        "print('例外処理を終わりました。')"
      ],
      "metadata": {
        "colab": {
          "base_uri": "https://localhost:8080/"
        },
        "id": "HhAiW4283_TN",
        "outputId": "3e1eef7a-b290-428e-827e-cfbfa3165b1b"
      },
      "execution_count": 12,
      "outputs": [
        {
          "output_type": "stream",
          "name": "stdout",
          "text": [
            "unsupported operand type(s) for +: 'int' and 'str'\n",
            "例外が発生しました\n",
            "例外処理を終わりました！\n",
            "例外処理を終わりました。\n"
          ]
        }
      ]
    },
    {
      "cell_type": "code",
      "source": [],
      "metadata": {
        "id": "iQEexaVq4DF-"
      },
      "execution_count": null,
      "outputs": []
    }
  ]
}