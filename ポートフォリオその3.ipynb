{
  "nbformat": 4,
  "nbformat_minor": 0,
  "metadata": {
    "colab": {
      "provenance": [],
      "authorship_tag": "ABX9TyNyvmbKxlAlF9TvS7W2uKTg"
    },
    "kernelspec": {
      "name": "python3",
      "display_name": "Python 3"
    },
    "language_info": {
      "name": "python"
    }
  },
  "cells": [
    {
      "cell_type": "markdown",
      "source": [
        "### キャスト\n",
        "\n",
        "*   数値を文字列に変換したりする\n",
        "*   データ型を別の形に変換する\n",
        "\n"
      ],
      "metadata": {
        "id": "FimW1faDKKte"
      }
    },
    {
      "cell_type": "code",
      "source": [
        "# 変数threeに3を代入\n",
        "three = 3\n",
        "\n",
        "# threeのタイプを確認し変数の中身を表示\n",
        "print(type(three))\n",
        "print(three)\n",
        "\n",
        "# 文字列にキャスト\n",
        "three_str = str(three)\n",
        "\n",
        "# threeのタイプを確認し変数の中身を表示\n",
        "print(type(three_str))\n",
        "print(three_str)"
      ],
      "metadata": {
        "colab": {
          "base_uri": "https://localhost:8080/"
        },
        "id": "h0cSkhTJKlTK",
        "outputId": "22386d5b-0512-45aa-d7d2-fc6b0af21445"
      },
      "execution_count": 1,
      "outputs": [
        {
          "output_type": "stream",
          "name": "stdout",
          "text": [
            "<class 'int'>\n",
            "3\n",
            "<class 'str'>\n",
            "3\n"
          ]
        }
      ]
    },
    {
      "cell_type": "code",
      "source": [
        "# int型にキャスト\n",
        "three_int = int(three)\n",
        "\n",
        "# threeのタイプを確認し変数の中身を表示\n",
        "print(type(three_int))\n",
        "print(three_int)\n",
        "\n",
        "# 変数three(int型)とthree_str(str型)は違うのでfalseが出る\n",
        "print(three == three_str)\n",
        "\n",
        "# 変数three(int型)とthree_int(int型)はおなじなのでtrueが出る\n",
        "print(three == three_int)"
      ],
      "metadata": {
        "colab": {
          "base_uri": "https://localhost:8080/"
        },
        "id": "WPO9CdX6LtyN",
        "outputId": "4c67365d-b96c-4791-98a8-011ba4035481"
      },
      "execution_count": 2,
      "outputs": [
        {
          "output_type": "stream",
          "name": "stdout",
          "text": [
            "<class 'int'>\n",
            "3\n",
            "False\n",
            "True\n"
          ]
        }
      ]
    },
    {
      "cell_type": "markdown",
      "source": [
        "### while文\n",
        "*   while文は繰り返しの回数が決まっておらず、条件を満たしている限り処理を繰り返したい場合。\n",
        "*   for文とwhile文の違いは繰り返し回数が決まっているか決まっていないか\n",
        "\n"
      ],
      "metadata": {
        "id": "6PR7P2URL52G"
      }
    },
    {
      "cell_type": "code",
      "source": [
        "# while文でiが100になるまで出力を続けるプログラム\n",
        "\n",
        "i = 0\n",
        "\n",
        "while i < 100:\n",
        "    i = i + 1\n",
        "    print(i)"
      ],
      "metadata": {
        "colab": {
          "base_uri": "https://localhost:8080/"
        },
        "id": "ri4Vza7vMvc4",
        "outputId": "8203073c-87d9-4a57-b8dc-ddbd0dd97e49"
      },
      "execution_count": 5,
      "outputs": [
        {
          "output_type": "stream",
          "name": "stdout",
          "text": [
            "1\n",
            "2\n",
            "3\n",
            "4\n",
            "5\n",
            "6\n",
            "7\n",
            "8\n",
            "9\n",
            "10\n",
            "11\n",
            "12\n",
            "13\n",
            "14\n",
            "15\n",
            "16\n",
            "17\n",
            "18\n",
            "19\n",
            "20\n",
            "21\n",
            "22\n",
            "23\n",
            "24\n",
            "25\n",
            "26\n",
            "27\n",
            "28\n",
            "29\n",
            "30\n",
            "31\n",
            "32\n",
            "33\n",
            "34\n",
            "35\n",
            "36\n",
            "37\n",
            "38\n",
            "39\n",
            "40\n",
            "41\n",
            "42\n",
            "43\n",
            "44\n",
            "45\n",
            "46\n",
            "47\n",
            "48\n",
            "49\n",
            "50\n",
            "51\n",
            "52\n",
            "53\n",
            "54\n",
            "55\n",
            "56\n",
            "57\n",
            "58\n",
            "59\n",
            "60\n",
            "61\n",
            "62\n",
            "63\n",
            "64\n",
            "65\n",
            "66\n",
            "67\n",
            "68\n",
            "69\n",
            "70\n",
            "71\n",
            "72\n",
            "73\n",
            "74\n",
            "75\n",
            "76\n",
            "77\n",
            "78\n",
            "79\n",
            "80\n",
            "81\n",
            "82\n",
            "83\n",
            "84\n",
            "85\n",
            "86\n",
            "87\n",
            "88\n",
            "89\n",
            "90\n",
            "91\n",
            "92\n",
            "93\n",
            "94\n",
            "95\n",
            "96\n",
            "97\n",
            "98\n",
            "99\n",
            "100\n"
          ]
        }
      ]
    },
    {
      "cell_type": "code",
      "source": [
        "# 簡略型\n",
        "\n",
        "i = 0\n",
        "\n",
        "while i < 100:\n",
        "    i += 1\n",
        "    print(i)"
      ],
      "metadata": {
        "colab": {
          "base_uri": "https://localhost:8080/"
        },
        "id": "3s5iqvUOM5Fo",
        "outputId": "1cc1ff77-992c-4b84-cc3f-6e542fb5806d"
      },
      "execution_count": 4,
      "outputs": [
        {
          "output_type": "stream",
          "name": "stdout",
          "text": [
            "1\n",
            "2\n",
            "3\n",
            "4\n",
            "5\n",
            "6\n",
            "7\n",
            "8\n",
            "9\n",
            "10\n",
            "11\n",
            "12\n",
            "13\n",
            "14\n",
            "15\n",
            "16\n",
            "17\n",
            "18\n",
            "19\n",
            "20\n",
            "21\n",
            "22\n",
            "23\n",
            "24\n",
            "25\n",
            "26\n",
            "27\n",
            "28\n",
            "29\n",
            "30\n",
            "31\n",
            "32\n",
            "33\n",
            "34\n",
            "35\n",
            "36\n",
            "37\n",
            "38\n",
            "39\n",
            "40\n",
            "41\n",
            "42\n",
            "43\n",
            "44\n",
            "45\n",
            "46\n",
            "47\n",
            "48\n",
            "49\n",
            "50\n",
            "51\n",
            "52\n",
            "53\n",
            "54\n",
            "55\n",
            "56\n",
            "57\n",
            "58\n",
            "59\n",
            "60\n",
            "61\n",
            "62\n",
            "63\n",
            "64\n",
            "65\n",
            "66\n",
            "67\n",
            "68\n",
            "69\n",
            "70\n",
            "71\n",
            "72\n",
            "73\n",
            "74\n",
            "75\n",
            "76\n",
            "77\n",
            "78\n",
            "79\n",
            "80\n",
            "81\n",
            "82\n",
            "83\n",
            "84\n",
            "85\n",
            "86\n",
            "87\n",
            "88\n",
            "89\n",
            "90\n",
            "91\n",
            "92\n",
            "93\n",
            "94\n",
            "95\n",
            "96\n",
            "97\n",
            "98\n",
            "99\n",
            "100\n"
          ]
        }
      ]
    },
    {
      "cell_type": "code",
      "source": [
        "# breakで0~9まで出力するときに、5で中断するプログラム\n",
        "\n",
        "i = 0\n",
        "\n",
        "while i < 10:\n",
        "    print(i)\n",
        "    i += 1\n",
        "    if i == 5:\n",
        "        break"
      ],
      "metadata": {
        "colab": {
          "base_uri": "https://localhost:8080/"
        },
        "id": "couLSf9yM9VP",
        "outputId": "b909cb84-5599-4dd3-92ab-d47f0c8580fa"
      },
      "execution_count": 6,
      "outputs": [
        {
          "output_type": "stream",
          "name": "stdout",
          "text": [
            "0\n",
            "1\n",
            "2\n",
            "3\n",
            "4\n"
          ]
        }
      ]
    },
    {
      "cell_type": "markdown",
      "source": [
        "### 集合\n",
        "\n",
        "\n",
        "\n",
        "*   Pythonにおけるリストや辞書に似た複数の値を扱う事が出来るデータ型\n",
        "*   数学の集合の概念と似ている\n",
        "\n",
        "\n",
        "\n"
      ],
      "metadata": {
        "id": "OKFLulMwNQRf"
      }
    },
    {
      "cell_type": "code",
      "source": [
        "# 1～5までを格納した集合をaに入れる\n",
        "a = {1, 2, 3, 4, 5}\n",
        "print(a)\n",
        "\n",
        "# 型確認\n",
        "print(type(a))"
      ],
      "metadata": {
        "colab": {
          "base_uri": "https://localhost:8080/"
        },
        "id": "VcoRKb7VNwCv",
        "outputId": "3c037b23-5e9f-40fb-b95f-c77fb041b38c"
      },
      "execution_count": 10,
      "outputs": [
        {
          "output_type": "stream",
          "name": "stdout",
          "text": [
            "{1, 2, 3, 4, 5}\n",
            "<class 'set'>\n"
          ]
        }
      ]
    },
    {
      "cell_type": "code",
      "source": [
        "# 間違って同じ数字を格納した場合、重複部分が削除される。リストやタプルにはない機能。\n",
        "b = {1, 2, 3, 3, 4}\n",
        "print(b)"
      ],
      "metadata": {
        "colab": {
          "base_uri": "https://localhost:8080/"
        },
        "id": "ZHUi-Vh-O8hX",
        "outputId": "de767a72-323a-49e4-88d7-cf4845abca19"
      },
      "execution_count": 11,
      "outputs": [
        {
          "output_type": "stream",
          "name": "stdout",
          "text": [
            "{1, 2, 3, 4}\n"
          ]
        }
      ]
    },
    {
      "cell_type": "code",
      "source": [
        "# 順序が1から順になる。\n",
        "c = {4, 3, 2, 1}\n",
        "print(c)"
      ],
      "metadata": {
        "colab": {
          "base_uri": "https://localhost:8080/"
        },
        "id": "2JK0o_RKO_IF",
        "outputId": "494927c2-7fe6-4a8f-8fcf-fd6774784a58"
      },
      "execution_count": 12,
      "outputs": [
        {
          "output_type": "stream",
          "name": "stdout",
          "text": [
            "{1, 2, 3, 4}\n"
          ]
        }
      ]
    },
    {
      "cell_type": "code",
      "source": [
        "# 集合の演算\n",
        "a = {1, 2, 3, 4, 5,}\n",
        "print('a:', a)\n",
        "\n",
        "b = {2, 3, 5, 7, 9}\n",
        "print('b:', b)\n",
        "\n",
        "# aとbの差\n",
        "print(a - b)  # aにある2,3,5はbにもあるので1,4しか残らなくなる\n",
        "\n",
        "# bとaの差\n",
        "print(b - a)  # bにある2,3,5はaにもあるので9,7しか残らなくなる\n",
        "\n",
        "# aとbの積集合\n",
        "print(a & b)  # aとbの共通部分が取り出される\n",
        "\n",
        "# aとbの和集合\n",
        "print(a | b) # aとbを合わせたもの\n",
        "\n",
        "# aとbの排他的論理和\n",
        "print(a ^ b) # 共通部分を除いたもの"
      ],
      "metadata": {
        "colab": {
          "base_uri": "https://localhost:8080/"
        },
        "id": "kuFNjF1YPBSS",
        "outputId": "162b3ef6-9b9a-4b32-f1c9-2a9b4f41e3b5"
      },
      "execution_count": 13,
      "outputs": [
        {
          "output_type": "stream",
          "name": "stdout",
          "text": [
            "a: {1, 2, 3, 4, 5}\n",
            "b: {2, 3, 5, 7, 9}\n",
            "{1, 4}\n",
            "{9, 7}\n",
            "{2, 3, 5}\n",
            "{1, 2, 3, 4, 5, 7, 9}\n",
            "{1, 4, 7, 9}\n"
          ]
        }
      ]
    },
    {
      "cell_type": "markdown",
      "source": [
        "### ラムダ式"
      ],
      "metadata": {
        "id": "ZC6SvsYYPDuR"
      }
    },
    {
      "cell_type": "code",
      "source": [],
      "metadata": {
        "id": "3r2t-Lp2PN8l"
      },
      "execution_count": null,
      "outputs": []
    }
  ]
}