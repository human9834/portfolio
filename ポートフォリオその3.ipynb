{
  "nbformat": 4,
  "nbformat_minor": 0,
  "metadata": {
    "colab": {
      "provenance": [],
      "authorship_tag": "ABX9TyNCOmmC+U8U8BCedvZQidnT",
      "include_colab_link": true
    },
    "kernelspec": {
      "name": "python3",
      "display_name": "Python 3"
    },
    "language_info": {
      "name": "python"
    }
  },
  "cells": [
    {
      "cell_type": "markdown",
      "metadata": {
        "id": "view-in-github",
        "colab_type": "text"
      },
      "source": [
        "<a href=\"https://colab.research.google.com/github/human9834/portfolio/blob/main/%E3%83%9D%E3%83%BC%E3%83%88%E3%83%95%E3%82%A9%E3%83%AA%E3%82%AA%E3%81%9D%E3%81%AE3.ipynb\" target=\"_parent\"><img src=\"https://colab.research.google.com/assets/colab-badge.svg\" alt=\"Open In Colab\"/></a>"
      ]
    },
    {
      "cell_type": "markdown",
      "source": [
        "### キャスト\n",
        "\n",
        "*   数値を文字列に変換したりする\n",
        "*   データ型を別の形に変換する\n",
        "\n"
      ],
      "metadata": {
        "id": "FimW1faDKKte"
      }
    },
    {
      "cell_type": "code",
      "source": [],
      "metadata": {
        "id": "h0cSkhTJKlTK"
      },
      "execution_count": null,
      "outputs": []
    }
  ]
}