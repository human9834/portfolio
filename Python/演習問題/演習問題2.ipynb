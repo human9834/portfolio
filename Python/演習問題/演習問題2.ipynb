{
  "nbformat": 4,
  "nbformat_minor": 0,
  "metadata": {
    "colab": {
      "provenance": []
    },
    "kernelspec": {
      "name": "python3",
      "display_name": "Python 3"
    },
    "language_info": {
      "name": "python"
    }
  },
  "cells": [
    {
      "cell_type": "code",
      "source": [
        "# 与えられたリスト内の偶数だけを抽出し、それを新しいリストとして表示するPythonプログラムを5行以内で作成してください。\n",
        "l = [1, 2, 3, 4]\n",
        "gusu = [x for x in l if x % 2==0]\n",
        "print(gusu)"
      ],
      "metadata": {
        "colab": {
          "base_uri": "https://localhost:8080/"
        },
        "id": "G3g0V5eCrH-1",
        "outputId": "bb034dc6-1634-418c-dc06-e0276d81a6c1"
      },
      "execution_count": null,
      "outputs": [
        {
          "output_type": "stream",
          "name": "stdout",
          "text": [
            "[2, 4]\n"
          ]
        }
      ]
    },
    {
      "cell_type": "code",
      "source": [
        "# 2つのリスト内で共通する要素を見つけ、それを表示するPythonプログラムを5行以内で作成してください。\n",
        "l1 = [1, 2, 3, 4]\n",
        "l2 = [2, 4, 6]\n",
        "kyotu = list(set(l1) & set(l2))\n",
        "print(kyotu)"
      ],
      "metadata": {
        "colab": {
          "base_uri": "https://localhost:8080/"
        },
        "id": "Jobp-rnfpnR6",
        "outputId": "a0cf3beb-2be0-4e2d-fe6c-4b22fa85cc4f"
      },
      "execution_count": null,
      "outputs": [
        {
          "output_type": "stream",
          "name": "stdout",
          "text": [
            "[2, 4]\n"
          ]
        }
      ]
    },
    {
      "cell_type": "code",
      "source": [
        "# 1から100までの数を表示するプログラムを作成し、3で割り切れる場合は「Fizz」、5で割り切れる場合は「Buzz」、3と5で割り切れる場合は「FizzBuzz」と表示するプログラムを作成\n",
        "for i in range(1, 101):\n",
        "    if i % 15 == 0:\n",
        "        print(\"FizzBuzz\")\n",
        "    elif  i % 3 == 0:\n",
        "        print(\"Fizz\")\n",
        "    elif  i % 5 == 0:\n",
        "        print(\"Buzz\")\n",
        "    else:\n",
        "        print(i)"
      ],
      "metadata": {
        "colab": {
          "base_uri": "https://localhost:8080/"
        },
        "id": "jIEMDKwgMJ9K",
        "outputId": "44b56689-3832-409e-aa90-0335fa1ad136"
      },
      "execution_count": null,
      "outputs": [
        {
          "output_type": "stream",
          "name": "stdout",
          "text": [
            "1\n",
            "2\n",
            "Fizz\n",
            "4\n",
            "Buzz\n",
            "Fizz\n",
            "7\n",
            "8\n",
            "Fizz\n",
            "Buzz\n",
            "11\n",
            "Fizz\n",
            "13\n",
            "14\n",
            "FizzBuzz\n",
            "16\n",
            "17\n",
            "Fizz\n",
            "19\n",
            "Buzz\n",
            "Fizz\n",
            "22\n",
            "23\n",
            "Fizz\n",
            "Buzz\n",
            "26\n",
            "Fizz\n",
            "28\n",
            "29\n",
            "FizzBuzz\n",
            "31\n",
            "32\n",
            "Fizz\n",
            "34\n",
            "Buzz\n",
            "Fizz\n",
            "37\n",
            "38\n",
            "Fizz\n",
            "Buzz\n",
            "41\n",
            "Fizz\n",
            "43\n",
            "44\n",
            "FizzBuzz\n",
            "46\n",
            "47\n",
            "Fizz\n",
            "49\n",
            "Buzz\n",
            "Fizz\n",
            "52\n",
            "53\n",
            "Fizz\n",
            "Buzz\n",
            "56\n",
            "Fizz\n",
            "58\n",
            "59\n",
            "FizzBuzz\n",
            "61\n",
            "62\n",
            "Fizz\n",
            "64\n",
            "Buzz\n",
            "Fizz\n",
            "67\n",
            "68\n",
            "Fizz\n",
            "Buzz\n",
            "71\n",
            "Fizz\n",
            "73\n",
            "74\n",
            "FizzBuzz\n",
            "76\n",
            "77\n",
            "Fizz\n",
            "79\n",
            "Buzz\n",
            "Fizz\n",
            "82\n",
            "83\n",
            "Fizz\n",
            "Buzz\n",
            "86\n",
            "Fizz\n",
            "88\n",
            "89\n",
            "FizzBuzz\n",
            "91\n",
            "92\n",
            "Fizz\n",
            "94\n",
            "Buzz\n",
            "Fizz\n",
            "97\n",
            "98\n",
            "Fizz\n",
            "Buzz\n"
          ]
        }
      ]
    },
    {
      "cell_type": "code",
      "source": [
        "# プログラムが1から100までのランダムな整数を生成し、ユーザーにその数を当てさせるゲームを作成してください。ヒントを提供して、ユーザーが数を当てるまで続けるプログラムを作成\n",
        "import random\n",
        "\n",
        "# 正解の数をランダムに生成\n",
        "answer = random.randint(1, 100)\n",
        "\n",
        "for i in range(1, 101):\n",
        "    w = int(input(\"数字を入力してください: \"))\n",
        "\n",
        "    if w < answer:\n",
        "        print(\"もっと大きい数字です\")\n",
        "    elif w > answer:\n",
        "        print(\"もっと小さな数字です\")\n",
        "    else:\n",
        "        print(f\"正解!{answer}です。\")\n",
        "        break"
      ],
      "metadata": {
        "colab": {
          "base_uri": "https://localhost:8080/"
        },
        "id": "e0GIrK1RMN9l",
        "outputId": "dded4eb6-86f4-4cf3-d64d-521029358049"
      },
      "execution_count": null,
      "outputs": [
        {
          "output_type": "stream",
          "name": "stdout",
          "text": [
            "数字を入力してください: 2\n",
            "もっと大きい数字です\n",
            "数字を入力してください: 5\n",
            "もっと大きい数字です\n",
            "数字を入力してください: 57\n",
            "もっと大きい数字です\n",
            "数字を入力してください: 88\n",
            "もっと小さな数字です\n",
            "数字を入力してください: 77\n",
            "もっと小さな数字です\n",
            "数字を入力してください: 66\n",
            "もっと小さな数字です\n",
            "数字を入力してください: 59\n",
            "もっと大きい数字です\n",
            "数字を入力してください: 60\n",
            "もっと大きい数字です\n",
            "数字を入力してください: 61\n",
            "もっと大きい数字です\n",
            "数字を入力してください: 62\n",
            "もっと大きい数字です\n",
            "数字を入力してください: 63\n",
            "もっと大きい数字です\n",
            "数字を入力してください: 64\n",
            "正解!64です。\n"
          ]
        }
      ]
    },
    {
      "cell_type": "code",
      "source": [
        "# クラス Person を定義し、name と age の2つの属性を持つコンストラクタを作成してください。その後、2つの Person インスタンスを作成し、それぞれの属性を設定して表示します。\n",
        "class Person:\n",
        "    def __init__(self, name, age):\n",
        "        self.name = name\n",
        "        self.age = age\n",
        "\n",
        "# インスタンス化\n",
        "Person1 = Person(\"aliel\", 33)\n",
        "Person2 = Person(\"alienai\", 34)\n",
        "\n",
        "print(f\"{Person1.name}は{Person1.age}歳\")\n",
        "print(f\"{Person2.name}は{Person2.age}歳\")\n"
      ],
      "metadata": {
        "id": "nqXPqmVlPC_v",
        "colab": {
          "base_uri": "https://localhost:8080/"
        },
        "outputId": "42068786-9d44-440d-c0e8-3e0a17ae1c47"
      },
      "execution_count": null,
      "outputs": [
        {
          "output_type": "stream",
          "name": "stdout",
          "text": [
            "alielは33歳\n",
            "alienaiは34歳\n"
          ]
        }
      ]
    },
    {
      "cell_type": "code",
      "source": [
        "# 2つの数値を受け取り、それらを足し合わせて返す関数 add_numbers を定義してください。その後、この関数を呼び出し、結果を表示します。\n",
        "def add_numbers(a, b):\n",
        "    return a + b\n",
        "\n",
        "answer = add_numbers(2, 4)\n",
        "print(answer)"
      ],
      "metadata": {
        "colab": {
          "base_uri": "https://localhost:8080/"
        },
        "id": "Mf6T0FudtB3X",
        "outputId": "b1f24d7a-3a52-4e27-8da8-c603b0eb035a"
      },
      "execution_count": null,
      "outputs": [
        {
          "output_type": "stream",
          "name": "stdout",
          "text": [
            "6\n"
          ]
        }
      ]
    },
    {
      "cell_type": "markdown",
      "source": [
        "クラス Rectangle を定義し、幅 width と高さ height の2つの属性を持つコンストラクタを作成します。さらに、面積を計算するメソッド calculate_area を定義します。その後、Rectangle インスタンスを作成し、面積を計算して表示します。"
      ],
      "metadata": {
        "id": "PAx2y5qNvGEa"
      }
    },
    {
      "cell_type": "code",
      "source": [
        "class Rectangle:\n",
        "    def __init__(self, width, height):\n",
        "        self.width = width\n",
        "        self.height = height\n",
        "\n",
        "    def calculate_area(self):\n",
        "        return self.width * self.height\n",
        "\n",
        "data = Rectangle(5, 4)\n",
        "answer= data.calculate_area()\n",
        "\n",
        "print(answer)"
      ],
      "metadata": {
        "colab": {
          "base_uri": "https://localhost:8080/"
        },
        "id": "StmnYYb-vHNr",
        "outputId": "38b482df-1b44-4dfa-b605-9c0657573330"
      },
      "execution_count": null,
      "outputs": [
        {
          "output_type": "stream",
          "name": "stdout",
          "text": [
            "20\n"
          ]
        }
      ]
    },
    {
      "cell_type": "code",
      "source": [
        "# 2つの数値を受け取り、それらの数値の和を計算して表示するPythonプログラムを6行以内で作成してください。\n",
        "def plus(a, b):\n",
        "    return a + b\n",
        "gokei = plus(33, 55)\n",
        "print(gokei)"
      ],
      "metadata": {
        "id": "r7xF_zbbugsG",
        "colab": {
          "base_uri": "https://localhost:8080/"
        },
        "outputId": "885f4734-1df8-4faa-e258-f40791a0516d"
      },
      "execution_count": null,
      "outputs": [
        {
          "output_type": "stream",
          "name": "stdout",
          "text": [
            "88\n"
          ]
        }
      ]
    },
    {
      "cell_type": "code",
      "source": [
        "# 与えられた文字列の長さを計算し、それを表示するPythonプログラムを6行以内で作成してください。\n",
        "input_str = \"Python\"\n",
        "input_len = len(input_str)\n",
        "print(input_len)"
      ],
      "metadata": {
        "colab": {
          "base_uri": "https://localhost:8080/"
        },
        "id": "0Dr91UI-fD7P",
        "outputId": "be6e6722-09c3-4daf-e205-a19f0358097e"
      },
      "execution_count": null,
      "outputs": [
        {
          "output_type": "stream",
          "name": "stdout",
          "text": [
            "6\n"
          ]
        }
      ]
    },
    {
      "cell_type": "code",
      "source": [
        "# 与えられた辞書から特定のキーの値を取得し、それを表示するPythonプログラムを6行以内で作成してください。\n",
        "data = {\"ああ\": \"20\", \"うう\": \"30\"}\n",
        "uu = data.get(\"うう\", \"未指定\")\n",
        "print(\"うう:\", uu)"
      ],
      "metadata": {
        "colab": {
          "base_uri": "https://localhost:8080/"
        },
        "id": "0lk9GEe3gAhF",
        "outputId": "80de931d-914b-48ee-a85f-903b18a4405d"
      },
      "execution_count": null,
      "outputs": [
        {
          "output_type": "stream",
          "name": "stdout",
          "text": [
            "うう: 30\n"
          ]
        }
      ]
    },
    {
      "cell_type": "code",
      "source": [
        "# mathモジュールをインポートし、円周率（π）の値を表示してください。\n",
        "import math\n",
        "pi = math.pi\n",
        "print(\"円周率は:\", pi)"
      ],
      "metadata": {
        "colab": {
          "base_uri": "https://localhost:8080/"
        },
        "id": "9d7IA29nKlR3",
        "outputId": "fbf1cfad-d392-4142-e9c1-3be18866dc73"
      },
      "execution_count": 8,
      "outputs": [
        {
          "output_type": "stream",
          "name": "stdout",
          "text": [
            "円周率は: 3.141592653589793\n"
          ]
        }
      ]
    },
    {
      "cell_type": "code",
      "source": [
        "# 2つの数値を引数として受け取り、それらを掛け合わせるラムダ式を作成し、実行してみてください。\n",
        "lam = lambda x, y: x * y\n",
        "answer = lam(3, 4)\n",
        "print(answer)"
      ],
      "metadata": {
        "colab": {
          "base_uri": "https://localhost:8080/"
        },
        "id": "aezN7ZcPLxp_",
        "outputId": "c04038fc-7d6d-402a-f6f4-ca7b7d6abcb4"
      },
      "execution_count": 10,
      "outputs": [
        {
          "output_type": "stream",
          "name": "stdout",
          "text": [
            "12\n"
          ]
        }
      ]
    },
    {
      "cell_type": "code",
      "source": [
        "lam = lambda a, b: a / b\n",
        "ans = lam(424, 88)\n",
        "print(ans)"
      ],
      "metadata": {
        "colab": {
          "base_uri": "https://localhost:8080/"
        },
        "id": "-0hn4XXAOY9c",
        "outputId": "eceb5779-0058-4678-835d-cd5a76992e6f"
      },
      "execution_count": 11,
      "outputs": [
        {
          "output_type": "stream",
          "name": "stdout",
          "text": [
            "4.818181818181818\n"
          ]
        }
      ]
    },
    {
      "cell_type": "code",
      "source": [
        "# 2つの集合 set1 と set2 を作成し、それらの差分を求めて表示してください。\n",
        "set1 = {1, 2, 3, 4}\n",
        "set2 = {2, 4, 6, 8}\n",
        "ans = set1 - set2\n",
        "print(ans)"
      ],
      "metadata": {
        "colab": {
          "base_uri": "https://localhost:8080/"
        },
        "id": "P5Xt6pNGL53m",
        "outputId": "24ada7ca-23ff-4f56-b7c8-12e53461e572"
      },
      "execution_count": 12,
      "outputs": [
        {
          "output_type": "stream",
          "name": "stdout",
          "text": [
            "{1, 3}\n"
          ]
        }
      ]
    },
    {
      "cell_type": "code",
      "source": [
        "# 3つの異なるデータ型（整数、文字列、浮動小数点数）を含むタプルを作成し、その内容を表示してください。\n",
        "t = (\"1\", \"a\", \"1.1\")\n",
        "print(t)"
      ],
      "metadata": {
        "colab": {
          "base_uri": "https://localhost:8080/"
        },
        "id": "tbQKhfEvMKxi",
        "outputId": "55d98214-327c-4d1b-ea4d-3b6c04591744"
      },
      "execution_count": 5,
      "outputs": [
        {
          "output_type": "stream",
          "name": "stdout",
          "text": [
            "('1', 'a', '1.1')\n"
          ]
        }
      ]
    },
    {
      "cell_type": "code",
      "source": [
        "# ユーザーから2つの数値を入力させ、それらの割り算の結果を表示します。ただし、0で割る場合に発生する ZeroDivisionError 例外を処理してください。\n",
        "try:\n",
        "    numerator = int(input(\"分子を入力してください: \"))\n",
        "    denominator = int(input(\"分母を入力してください: \"))\n",
        "\n",
        "    result = numerator / denominator\n",
        "    print(\"割り算の結果:\", result)\n",
        "\n",
        "except ZeroDivisionError:\n",
        "    print(\"エラー: 0で割ることはできません。\")\n",
        "except ValueError:\n",
        "    print(\"エラー: 整数以外の値が入力されました。\")"
      ],
      "metadata": {
        "colab": {
          "base_uri": "https://localhost:8080/"
        },
        "id": "8WjEKU1iMDuT",
        "outputId": "8e8ef16f-5afb-4dba-bd85-89785141ebd0"
      },
      "execution_count": 17,
      "outputs": [
        {
          "output_type": "stream",
          "name": "stdout",
          "text": [
            "分子を入力してください: 34\n",
            "分母を入力してください: 22\n",
            "割り算の結果: 1.5454545454545454\n"
          ]
        }
      ]
    },
    {
      "cell_type": "code",
      "source": [
        "# 空の辞書 person を作成し、name キーにあなたの名前、age キーにあなたの年齢を追加してください。その後、辞書の内容を表示してください。\n",
        "person = {}\n",
        "person[\"name\"] = \"maa\"\n",
        "person[\"age\"] = 12\n",
        "print(person)"
      ],
      "metadata": {
        "colab": {
          "base_uri": "https://localhost:8080/"
        },
        "id": "4SZ_qx-6M4g3",
        "outputId": "934148ab-ed93-47cb-b21e-aa335f3fd3f6"
      },
      "execution_count": 14,
      "outputs": [
        {
          "output_type": "stream",
          "name": "stdout",
          "text": [
            "{'name': 'maa', 'age': 12}\n"
          ]
        }
      ]
    },
    {
      "cell_type": "markdown",
      "source": [
        "### 簡易アプリケーション"
      ],
      "metadata": {
        "id": "0nG6m74LiHi8"
      }
    },
    {
      "cell_type": "code",
      "source": [
        "# ユーザーに質問をするアプリケーション\n",
        "Q = input(\"好きな食べ物は? \")\n",
        "if Q.lower() == \"apple\":\n",
        "    print(\"素敵ですね\")\n",
        "else:\n",
        "    print(\"良いですね\")"
      ],
      "metadata": {
        "colab": {
          "base_uri": "https://localhost:8080/"
        },
        "id": "tUfNhDtRjEY9",
        "outputId": "d0212840-d893-4750-aae6-7f75740468e9"
      },
      "execution_count": null,
      "outputs": [
        {
          "output_type": "stream",
          "name": "stdout",
          "text": [
            "好きな食べ物は? apple\n",
            "素敵ですね\n"
          ]
        }
      ]
    },
    {
      "cell_type": "code",
      "source": [],
      "metadata": {
        "id": "KajELt7IQsUr"
      },
      "execution_count": null,
      "outputs": []
    },
    {
      "cell_type": "code",
      "source": [],
      "metadata": {
        "id": "cl01kWKmjgN8"
      },
      "execution_count": null,
      "outputs": []
    }
  ]
}