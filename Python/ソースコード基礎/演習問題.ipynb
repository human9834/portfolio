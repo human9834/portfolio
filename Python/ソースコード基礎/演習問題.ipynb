{
  "nbformat": 4,
  "nbformat_minor": 0,
  "metadata": {
    "colab": {
      "provenance": []
    },
    "kernelspec": {
      "name": "python3",
      "display_name": "Python 3"
    },
    "language_info": {
      "name": "python"
    }
  },
  "cells": [
    {
      "cell_type": "markdown",
      "source": [
        "### 変数と出力"
      ],
      "metadata": {
        "id": "zF_-h20H3b1Z"
      }
    },
    {
      "cell_type": "code",
      "execution_count": null,
      "metadata": {
        "colab": {
          "base_uri": "https://localhost:8080/"
        },
        "id": "2H1SFZeM0Mc4",
        "outputId": "103f31d0-4b31-47c1-d752-e881d95cfc13"
      },
      "outputs": [
        {
          "output_type": "stream",
          "name": "stdout",
          "text": [
            "ma\n"
          ]
        }
      ],
      "source": [
        "my_name = \"ma\"\n",
        "print(my_name)"
      ]
    },
    {
      "cell_type": "code",
      "source": [
        "# 自分の住んでいる国や都市をmy_countryとmy_cityという変数に代入し、print()関数を使用してそれらを出力してください。\n",
        "my_country = \"Japan\"\n",
        "my_city = \"shinagawa-ku\"\n",
        "\n",
        "print(my_country + \" \" + my_city)"
      ],
      "metadata": {
        "colab": {
          "base_uri": "https://localhost:8080/"
        },
        "id": "mNbk04s93KyF",
        "outputId": "e692009b-a911-4bac-de89-8989863074f3"
      },
      "execution_count": 2,
      "outputs": [
        {
          "output_type": "stream",
          "name": "stdout",
          "text": [
            "Japan shinagawa-ku\n"
          ]
        }
      ]
    },
    {
      "cell_type": "markdown",
      "source": [
        "### 文字列、数値の操作"
      ],
      "metadata": {
        "id": "5A7eGHz63hmo"
      }
    },
    {
      "cell_type": "code",
      "source": [
        "first_name = \"ma\"\n",
        "last_name = \"da\"\n",
        "full_name = (first_name + \" \" + last_name)\n",
        "print(full_name)"
      ],
      "metadata": {
        "colab": {
          "base_uri": "https://localhost:8080/"
        },
        "id": "PNekahhC0RTx",
        "outputId": "41c3f5ae-b754-4db2-af33-efa61644bb23"
      },
      "execution_count": null,
      "outputs": [
        {
          "output_type": "stream",
          "name": "stdout",
          "text": [
            "ma da\n"
          ]
        }
      ]
    },
    {
      "cell_type": "code",
      "source": [
        "# 2つの数値aとbを受け取り、それらの合計、差、積、商を出力する関数calculate()を作成してください。\n",
        "def calculate(a, b):\n",
        "    print(\"Sum\" , a + b)\n",
        "    print(\"Difference:\" , a - b)\n",
        "    print(\"Product:\" , a * b)\n",
        "    print(\"Quotient:\" , a / b)\n",
        "\n",
        "a = 1\n",
        "b = 2\n",
        "\n",
        "calculate(a, b)"
      ],
      "metadata": {
        "colab": {
          "base_uri": "https://localhost:8080/"
        },
        "id": "B-hlm4dk3yzA",
        "outputId": "4b39ccf3-c9d9-4451-fdba-da16c2a02322"
      },
      "execution_count": 29,
      "outputs": [
        {
          "output_type": "stream",
          "name": "stdout",
          "text": [
            "Sum 3\n",
            "Difference: -1\n",
            "Product: 2\n",
            "Quotient: 0.5\n"
          ]
        }
      ]
    },
    {
      "cell_type": "markdown",
      "source": [
        "### リスト"
      ],
      "metadata": {
        "id": "mKTRAgx33mfz"
      }
    },
    {
      "cell_type": "code",
      "source": [
        "fruits = [1, 2, 3]\n",
        "print(fruits[1])\n",
        "\n",
        "# 注意点、リスト名の後にindex指定。"
      ],
      "metadata": {
        "colab": {
          "base_uri": "https://localhost:8080/"
        },
        "id": "a5vBPVlK1PmF",
        "outputId": "88342ba8-dd79-4487-ab7e-976dd795be54"
      },
      "execution_count": null,
      "outputs": [
        {
          "output_type": "stream",
          "name": "stdout",
          "text": [
            "2\n"
          ]
        }
      ]
    },
    {
      "cell_type": "code",
      "source": [
        "# リストcolorsが与えられたとき、そのリストに\"purple\"を追加して、その後リスト全体をprint()関数で出力してください。\n",
        "\n",
        "colors = [\"red\", \"blue\", \"yellow\"]\n",
        "colors.append(\"purple\")\n",
        "print(colors)"
      ],
      "metadata": {
        "colab": {
          "base_uri": "https://localhost:8080/"
        },
        "id": "sweSHTp_4Dh2",
        "outputId": "015919de-b0b8-4cfa-c280-e3899dafcf36"
      },
      "execution_count": 30,
      "outputs": [
        {
          "output_type": "stream",
          "name": "stdout",
          "text": [
            "['red', 'blue', 'yellow', 'purple']\n"
          ]
        }
      ]
    },
    {
      "cell_type": "markdown",
      "source": [
        "### 繰り返し(for, while)"
      ],
      "metadata": {
        "id": "q5u6uFVG3sE-"
      }
    },
    {
      "cell_type": "code",
      "source": [
        "for i in range(1,6):\n",
        "    print(i)"
      ],
      "metadata": {
        "colab": {
          "base_uri": "https://localhost:8080/"
        },
        "id": "qUPZim0T11pW",
        "outputId": "45245667-3601-4330-baec-fe54206030b5"
      },
      "execution_count": null,
      "outputs": [
        {
          "output_type": "stream",
          "name": "stdout",
          "text": [
            "1\n",
            "2\n",
            "3\n",
            "4\n",
            "5\n"
          ]
        }
      ]
    },
    {
      "cell_type": "code",
      "source": [
        "# 5から10までの数字を順に出力するループを作成してください。\n",
        "\n",
        "for i in range(5, 11):\n",
        "    print(i)"
      ],
      "metadata": {
        "colab": {
          "base_uri": "https://localhost:8080/"
        },
        "id": "lRu4cT7k4vV9",
        "outputId": "96e1be4e-255d-4c76-e74f-414b41603ef5"
      },
      "execution_count": 9,
      "outputs": [
        {
          "output_type": "stream",
          "name": "stdout",
          "text": [
            "5\n",
            "6\n",
            "7\n",
            "8\n",
            "9\n",
            "10\n"
          ]
        }
      ]
    },
    {
      "cell_type": "code",
      "source": [
        "# while文を使用して、1から10までの数字を順番に出力するプログラムを書いてください。\n",
        "i = 1\n",
        "while i <= 10:\n",
        "    print(i)\n",
        "    i += 1"
      ],
      "metadata": {
        "colab": {
          "base_uri": "https://localhost:8080/"
        },
        "id": "WVcWtcNR-Xgq",
        "outputId": "353cd4e4-c6d5-4a82-fcb6-7d4d7c0f5578"
      },
      "execution_count": 49,
      "outputs": [
        {
          "output_type": "stream",
          "name": "stdout",
          "text": [
            "1\n",
            "2\n",
            "3\n",
            "4\n",
            "5\n",
            "6\n",
            "7\n",
            "8\n",
            "9\n",
            "10\n"
          ]
        }
      ]
    },
    {
      "cell_type": "markdown",
      "source": [
        "### 条件分岐"
      ],
      "metadata": {
        "id": "UioOW55M3L7V"
      }
    },
    {
      "cell_type": "code",
      "source": [
        "num = 4\n",
        "if num % 2 == 0:\n",
        "    print(\"Even\")\n",
        "else:\n",
        "    print(\"Odd\")\n",
        "\n",
        "# 注意、正解をまずprintで出力して、falseならelifからelseで条件定義"
      ],
      "metadata": {
        "colab": {
          "base_uri": "https://localhost:8080/"
        },
        "id": "GF9o6N_f304C",
        "outputId": "bd8e75ce-417a-45a3-fd3d-a1e62737280a"
      },
      "execution_count": null,
      "outputs": [
        {
          "output_type": "stream",
          "name": "stdout",
          "text": [
            "Even\n"
          ]
        }
      ]
    },
    {
      "cell_type": "code",
      "source": [
        "# 数値temperatureが与えられたとき、その数値が30以上なら\"Hot\"、20〜29なら\"Warm\"、それ以下なら\"Cold\"という文字列を返す関数check_temperature()を作成してください。\n",
        "def check_temperature(temperature):\n",
        "    if temperature >= 30:\n",
        "        return \"Hot\"\n",
        "    elif temperature >= 20:\n",
        "        return \"Warm\"\n",
        "    else:\n",
        "        return \"Cold\"\n",
        "\n",
        "temperature = 4\n",
        "print(check_temperature(temperature))"
      ],
      "metadata": {
        "colab": {
          "base_uri": "https://localhost:8080/"
        },
        "id": "SDInvIz45PnE",
        "outputId": "a925a78c-0127-4a15-cfc8-51cdb6667c1d"
      },
      "execution_count": 35,
      "outputs": [
        {
          "output_type": "stream",
          "name": "stdout",
          "text": [
            "Cold\n"
          ]
        }
      ]
    },
    {
      "cell_type": "code",
      "source": [],
      "metadata": {
        "id": "DPerenMK5w0e"
      },
      "execution_count": null,
      "outputs": []
    }
  ]
}