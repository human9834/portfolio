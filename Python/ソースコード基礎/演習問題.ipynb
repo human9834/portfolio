{
  "nbformat": 4,
  "nbformat_minor": 0,
  "metadata": {
    "colab": {
      "provenance": []
    },
    "kernelspec": {
      "name": "python3",
      "display_name": "Python 3"
    },
    "language_info": {
      "name": "python"
    }
  },
  "cells": [
    {
      "cell_type": "markdown",
      "source": [
        "### 変数と出力"
      ],
      "metadata": {
        "id": "zF_-h20H3b1Z"
      }
    },
    {
      "cell_type": "code",
      "execution_count": null,
      "metadata": {
        "colab": {
          "base_uri": "https://localhost:8080/"
        },
        "id": "2H1SFZeM0Mc4",
        "outputId": "103f31d0-4b31-47c1-d752-e881d95cfc13"
      },
      "outputs": [
        {
          "output_type": "stream",
          "name": "stdout",
          "text": [
            "ma\n"
          ]
        }
      ],
      "source": [
        "my_name = \"ma\"\n",
        "print(my_name)"
      ]
    },
    {
      "cell_type": "code",
      "source": [
        "# 自分の住んでいる国や都市をmy_countryとmy_cityという変数に代入し、print()関数を使用してそれらを出力してください。\n",
        "my_country = \"Japan\"\n",
        "my_city = \"shinagawa-ku\"\n",
        "\n",
        "print(my_country + \" \" + my_city)"
      ],
      "metadata": {
        "colab": {
          "base_uri": "https://localhost:8080/"
        },
        "id": "mNbk04s93KyF",
        "outputId": "e692009b-a911-4bac-de89-8989863074f3"
      },
      "execution_count": null,
      "outputs": [
        {
          "output_type": "stream",
          "name": "stdout",
          "text": [
            "Japan shinagawa-ku\n"
          ]
        }
      ]
    },
    {
      "cell_type": "code",
      "source": [
        "name = input(\"名前を入力してください: \")  # ユーザーから名前を入力\n",
        "print(\"こんにちは、\" + name + \"さん！\")"
      ],
      "metadata": {
        "colab": {
          "base_uri": "https://localhost:8080/"
        },
        "id": "QCi10Rjcuv23",
        "outputId": "cb3a9234-c5cd-4b06-93fc-64e1fbe542f6"
      },
      "execution_count": 27,
      "outputs": [
        {
          "output_type": "stream",
          "name": "stdout",
          "text": [
            "名前を入力してください: ma\n",
            "こんにちは、maさん！\n"
          ]
        }
      ]
    },
    {
      "cell_type": "markdown",
      "source": [
        "### 文字列、数値の操作"
      ],
      "metadata": {
        "id": "5A7eGHz63hmo"
      }
    },
    {
      "cell_type": "code",
      "source": [
        "first_name = \"ma\"\n",
        "last_name = \"da\"\n",
        "full_name = (first_name + \" \" + last_name)\n",
        "print(full_name)"
      ],
      "metadata": {
        "colab": {
          "base_uri": "https://localhost:8080/"
        },
        "id": "PNekahhC0RTx",
        "outputId": "41c3f5ae-b754-4db2-af33-efa61644bb23"
      },
      "execution_count": null,
      "outputs": [
        {
          "output_type": "stream",
          "name": "stdout",
          "text": [
            "ma da\n"
          ]
        }
      ]
    },
    {
      "cell_type": "code",
      "source": [
        "# 2つの数値aとbを受け取り、それらの合計、差、積、商を出力する関数calculate()を作成してください。\n",
        "def calculate(a, b):\n",
        "    print(\"Sum\" , a + b)\n",
        "    print(\"Difference:\" , a - b)\n",
        "    print(\"Product:\" , a * b)\n",
        "    print(\"Quotient:\" , a / b)\n",
        "\n",
        "a = 1\n",
        "b = 2\n",
        "\n",
        "calculate(a, b)"
      ],
      "metadata": {
        "colab": {
          "base_uri": "https://localhost:8080/"
        },
        "id": "B-hlm4dk3yzA",
        "outputId": "4b39ccf3-c9d9-4451-fdba-da16c2a02322"
      },
      "execution_count": null,
      "outputs": [
        {
          "output_type": "stream",
          "name": "stdout",
          "text": [
            "Sum 3\n",
            "Difference: -1\n",
            "Product: 2\n",
            "Quotient: 0.5\n"
          ]
        }
      ]
    },
    {
      "cell_type": "markdown",
      "source": [
        "### リスト"
      ],
      "metadata": {
        "id": "mKTRAgx33mfz"
      }
    },
    {
      "cell_type": "code",
      "source": [
        "# 1から10までの整数を含むリストを作成し、それを表示してください。\n",
        "\n",
        "number_list = list(range(1, 11))\n",
        "print(\"1から10までの整数を含むリスト:\", number_list)"
      ],
      "metadata": {
        "colab": {
          "base_uri": "https://localhost:8080/"
        },
        "id": "q6ORZVVvoes8",
        "outputId": "88cce174-f163-4def-e41e-b4c2b2d3623b"
      },
      "execution_count": 26,
      "outputs": [
        {
          "output_type": "stream",
          "name": "stdout",
          "text": [
            "1から10までの整数を含むリスト: [1, 2, 3, 4, 5, 6, 7, 8, 9, 10]\n"
          ]
        }
      ]
    },
    {
      "cell_type": "code",
      "source": [
        "fruits = [1, 2, 3]\n",
        "print(fruits[1])\n",
        "\n",
        "# 注意点、リスト名の後にindex指定。"
      ],
      "metadata": {
        "colab": {
          "base_uri": "https://localhost:8080/"
        },
        "id": "a5vBPVlK1PmF",
        "outputId": "88342ba8-dd79-4487-ab7e-976dd795be54"
      },
      "execution_count": null,
      "outputs": [
        {
          "output_type": "stream",
          "name": "stdout",
          "text": [
            "2\n"
          ]
        }
      ]
    },
    {
      "cell_type": "code",
      "source": [
        "# リストcolorsが与えられたとき、そのリストに\"purple\"を追加して、その後リスト全体をprint()関数で出力してください。\n",
        "\n",
        "colors = [\"red\", \"blue\", \"yellow\"]\n",
        "colors.append(\"purple\")\n",
        "print(colors)"
      ],
      "metadata": {
        "colab": {
          "base_uri": "https://localhost:8080/"
        },
        "id": "sweSHTp_4Dh2",
        "outputId": "015919de-b0b8-4cfa-c280-e3899dafcf36"
      },
      "execution_count": null,
      "outputs": [
        {
          "output_type": "stream",
          "name": "stdout",
          "text": [
            "['red', 'blue', 'yellow', 'purple']\n"
          ]
        }
      ]
    },
    {
      "cell_type": "code",
      "source": [
        "#重複を削除した[1, 2, 3, 4, 5]を 与えられたリストから重複する要素を削除し、重複のない新しいリストを作成してください。たとえば、[1, 2, 2, 3, 4, 4, 5]というリストが与えられた場合、作成します。\n",
        "\n",
        "original_list = [1, 2, 3, 3, 5, 4, 5]\n",
        "unique_list = list(set(original_list))\n",
        "print(\"重複のない整数リスト\", unique_list)"
      ],
      "metadata": {
        "colab": {
          "base_uri": "https://localhost:8080/"
        },
        "id": "eR5WzepdqjaL",
        "outputId": "0de946d7-f989-40cb-9050-d5c3f3bddb35"
      },
      "execution_count": 25,
      "outputs": [
        {
          "output_type": "stream",
          "name": "stdout",
          "text": [
            "重複のない整数リスト [1, 2, 3, 4, 5]\n"
          ]
        }
      ]
    },
    {
      "cell_type": "markdown",
      "source": [
        "### 繰り返し(for, while)"
      ],
      "metadata": {
        "id": "q5u6uFVG3sE-"
      }
    },
    {
      "cell_type": "code",
      "source": [
        "for i in range(1,6):\n",
        "    print(i)"
      ],
      "metadata": {
        "colab": {
          "base_uri": "https://localhost:8080/"
        },
        "id": "qUPZim0T11pW",
        "outputId": "45245667-3601-4330-baec-fe54206030b5"
      },
      "execution_count": null,
      "outputs": [
        {
          "output_type": "stream",
          "name": "stdout",
          "text": [
            "1\n",
            "2\n",
            "3\n",
            "4\n",
            "5\n"
          ]
        }
      ]
    },
    {
      "cell_type": "code",
      "source": [
        "# 5から10までの数字を順に出力するループを作成してください。\n",
        "\n",
        "for i in range(5, 11):\n",
        "    print(i)"
      ],
      "metadata": {
        "colab": {
          "base_uri": "https://localhost:8080/"
        },
        "id": "lRu4cT7k4vV9",
        "outputId": "96e1be4e-255d-4c76-e74f-414b41603ef5"
      },
      "execution_count": null,
      "outputs": [
        {
          "output_type": "stream",
          "name": "stdout",
          "text": [
            "5\n",
            "6\n",
            "7\n",
            "8\n",
            "9\n",
            "10\n"
          ]
        }
      ]
    },
    {
      "cell_type": "code",
      "source": [
        "# while文を使用して、1から10までの数字を順番に出力するプログラムを書いてください。\n",
        "i = 1\n",
        "while i <= 10:\n",
        "    print(i)\n",
        "    i += 1"
      ],
      "metadata": {
        "colab": {
          "base_uri": "https://localhost:8080/"
        },
        "id": "WVcWtcNR-Xgq",
        "outputId": "353cd4e4-c6d5-4a82-fcb6-7d4d7c0f5578"
      },
      "execution_count": null,
      "outputs": [
        {
          "output_type": "stream",
          "name": "stdout",
          "text": [
            "1\n",
            "2\n",
            "3\n",
            "4\n",
            "5\n",
            "6\n",
            "7\n",
            "8\n",
            "9\n",
            "10\n"
          ]
        }
      ]
    },
    {
      "cell_type": "markdown",
      "source": [
        "### 条件分岐"
      ],
      "metadata": {
        "id": "UioOW55M3L7V"
      }
    },
    {
      "cell_type": "code",
      "source": [
        "# ユーザーに整数を入力させ、その数が偶数か奇数かを判定して結果を表示してください。\n",
        "i = int(input(\"整数を入力してください: \"))\n",
        "if i % 2 == 0:\n",
        "    print(\"偶数\")\n",
        "else:\n",
        "    print(\"奇数\")"
      ],
      "metadata": {
        "colab": {
          "base_uri": "https://localhost:8080/"
        },
        "id": "UOQRp5IFrH7W",
        "outputId": "e609be4a-ef94-4d38-8e28-003bb3ac9661"
      },
      "execution_count": 18,
      "outputs": [
        {
          "output_type": "stream",
          "name": "stdout",
          "text": [
            "整数を入力してください: 2\n",
            "偶数\n"
          ]
        }
      ]
    },
    {
      "cell_type": "code",
      "source": [
        "# 1から100までの整数の中で、3で割り切れる数の合計を計算してください。\n",
        "total = 0\n",
        "for i in range(1, 101):\n",
        "    if i % 3 == 0:\n",
        "        total += i\n",
        "print(\"1から100までの整数の中で、3で割り切れる数の合計: \", total)"
      ],
      "metadata": {
        "colab": {
          "base_uri": "https://localhost:8080/"
        },
        "id": "oufvKn9QpAe6",
        "outputId": "af4c032a-a2f1-4401-e853-265bd01be3df"
      },
      "execution_count": 28,
      "outputs": [
        {
          "output_type": "stream",
          "name": "stdout",
          "text": [
            "1から100までの整数の中で、3で割り切れる数の合計:  1683\n"
          ]
        }
      ]
    },
    {
      "cell_type": "code",
      "source": [
        "num = 4\n",
        "if num % 2 == 0:\n",
        "    print(\"Even\")\n",
        "else:\n",
        "    print(\"Odd\")\n",
        "\n",
        "# 注意、正解をまずprintで出力して、falseならelifからelseで条件定義"
      ],
      "metadata": {
        "colab": {
          "base_uri": "https://localhost:8080/"
        },
        "id": "GF9o6N_f304C",
        "outputId": "bd8e75ce-417a-45a3-fd3d-a1e62737280a"
      },
      "execution_count": null,
      "outputs": [
        {
          "output_type": "stream",
          "name": "stdout",
          "text": [
            "Even\n"
          ]
        }
      ]
    },
    {
      "cell_type": "code",
      "source": [
        "# 数値temperatureが与えられたとき、その数値が30以上なら\"Hot\"、20〜29なら\"Warm\"、それ以下なら\"Cold\"という文字列を返す関数check_temperature()を作成してください。\n",
        "def check_temperature(temperature):\n",
        "    if temperature >= 30:\n",
        "        return \"Hot\"\n",
        "    elif temperature >= 20:\n",
        "        return \"Warm\"\n",
        "    else:\n",
        "        return \"Cold\"\n",
        "\n",
        "temperature = 4\n",
        "print(check_temperature(temperature))"
      ],
      "metadata": {
        "colab": {
          "base_uri": "https://localhost:8080/"
        },
        "id": "SDInvIz45PnE",
        "outputId": "a925a78c-0127-4a15-cfc8-51cdb6667c1d"
      },
      "execution_count": null,
      "outputs": [
        {
          "output_type": "stream",
          "name": "stdout",
          "text": [
            "Cold\n"
          ]
        }
      ]
    },
    {
      "cell_type": "markdown",
      "source": [
        "### 関数"
      ],
      "metadata": {
        "id": "syQ79yu8qYbO"
      }
    },
    {
      "cell_type": "code",
      "source": [
        "# 与えられた2つの数値の平均を返す関数get_average(a, b)を作成してください。\n",
        "\n",
        "def get_average(a, b):\n",
        "    return (a + b) / 2\n",
        "\n",
        "a = 1\n",
        "b = 3\n",
        "\n",
        "print(\"Average:\", get_average(a, b))"
      ],
      "metadata": {
        "id": "DPerenMK5w0e",
        "colab": {
          "base_uri": "https://localhost:8080/"
        },
        "outputId": "5849f0b9-a5a8-43ef-95e9-7631dbadcd4b"
      },
      "execution_count": null,
      "outputs": [
        {
          "output_type": "stream",
          "name": "stdout",
          "text": [
            "Average: 2.0\n"
          ]
        }
      ]
    },
    {
      "cell_type": "markdown",
      "source": [
        "### クラスメソッド"
      ],
      "metadata": {
        "id": "gA-k3c94qzyb"
      }
    },
    {
      "cell_type": "code",
      "source": [
        "# メソッドの基本形\n",
        "\n",
        "class Dog: # Dogというclassの作成\n",
        "    def __init__(self, name):\n",
        "        self.name = name  # インスタンス変数の設定\n",
        "\n",
        "    # メソッドの定義\n",
        "    def bark(self):\n",
        "        print(f\"{self.name} says Woof!\")\n",
        "\n",
        "# インスタンスの作成\n",
        "dog_instance = Dog(\"Buddy\")\n",
        "\n",
        "# メソッドの呼び出し\n",
        "dog_instance.bark()"
      ],
      "metadata": {
        "colab": {
          "base_uri": "https://localhost:8080/"
        },
        "id": "E1ekucpAwH1U",
        "outputId": "251e36dd-ab88-4e8c-b3d1-936cf887d392"
      },
      "execution_count": null,
      "outputs": [
        {
          "output_type": "stream",
          "name": "stdout",
          "text": [
            "Buddy says Woof!\n"
          ]
        }
      ]
    },
    {
      "cell_type": "code",
      "source": [
        "# 文字列のリスト（例：[\"apple\", \"banana\", \"cherry\"]）を持つFruitBasketクラスを作成します。このクラスには、リストに新しいフルーツを追加するメソッドadd_fruitを追加してください。\n",
        "class FruitBasket:\n",
        "    def __init__(self):\n",
        "        self.fruits = [\"banana\", \"apple\", \"cherry\"]\n",
        "    def add_fruit(self, fruit):\n",
        "        self.fruits.append(fruit)\n",
        "\n",
        "basket = FruitBasket()\n",
        "basket.add_fruit(\"orange\")\n",
        "print(basket.fruits)"
      ],
      "metadata": {
        "colab": {
          "base_uri": "https://localhost:8080/"
        },
        "id": "H8dFYenOlR87",
        "outputId": "ee00599d-8669-47a2-9b07-6e99cc4ea15c"
      },
      "execution_count": null,
      "outputs": [
        {
          "output_type": "stream",
          "name": "stdout",
          "text": [
            "['banana', 'apple', 'cherry', 'orange']\n"
          ]
        }
      ]
    },
    {
      "cell_type": "code",
      "source": [
        "class Person():\n",
        "    def __init__(self, first_name=\"bb\", last_name=\"aa\", age=12):\n",
        "        self.first_name = first_name\n",
        "        self.last_name = last_name\n",
        "        self.age = age\n",
        "\n",
        "    def introduce_yourself(self):\n",
        "        print(f\"My name is {self.first_name} {self.last_name} and I am {self.age} years old.\")\n",
        "\n",
        "# 使用例\n",
        "p = Person()\n",
        "p.introduce_yourself()"
      ],
      "metadata": {
        "colab": {
          "base_uri": "https://localhost:8080/"
        },
        "id": "NbtNMlJDsPQL",
        "outputId": "e7c73496-b0dd-4dac-8667-1261171f0643"
      },
      "execution_count": null,
      "outputs": [
        {
          "output_type": "stream",
          "name": "stdout",
          "text": [
            "My name is bb aa and I am 12 years old.\n"
          ]
        }
      ]
    },
    {
      "cell_type": "code",
      "source": [
        "# Rectangleクラスを作成してください。このクラスは幅と高さの属性を持ち、面積を返すメソッドareaを持つ必要があります。\n",
        "# 幅5、高さ10の長方形のオブジェクトを作成し、その面積を計算してください。\n",
        "class Rectangle():\n",
        "    def __init__(self, width, height):\n",
        "        self.width = width\n",
        "        self.height = height\n",
        "\n",
        "    def area(self):\n",
        "        return self.width * self.height\n",
        "\n",
        "# Rectangleインスタンスを作成\n",
        "rect = Rectangle(5, 10)\n",
        "\n",
        "# 面積を計算して表示\n",
        "print(\"面積:\", rect.area())"
      ],
      "metadata": {
        "id": "WK2rQOWHoia8",
        "colab": {
          "base_uri": "https://localhost:8080/"
        },
        "outputId": "3e26624a-a890-42cc-a2d2-824a6e8b489b"
      },
      "execution_count": null,
      "outputs": [
        {
          "output_type": "stream",
          "name": "stdout",
          "text": [
            "面積: 50\n"
          ]
        }
      ]
    },
    {
      "cell_type": "code",
      "source": [
        "# Circleクラスを作成してください。このクラスは半径（radius）の属性を持ちます。円の面積を計算して返すメソッドareaを持つ必要があります。円の面積はπ（円周率）を使って計算します。面積の計算式はπ * 半径^2です。\n",
        "# 円周の長さを計算して返すメソッドcircumferenceを持つ必要があります。円周の長さの計算式は2 * π * 半径です。次に、半径が5の円のオブジェクトを作成し、面積と円周の長さを計算して表示してください。\n",
        "import math\n",
        "\n",
        "class Circle():\n",
        "    def __init__(self, radius):\n",
        "        self.radius = radius\n",
        "\n",
        "    def area(self):\n",
        "        return  math.pi * self.radius**2\n",
        "\n",
        "    def circumference(self):\n",
        "        return 2 * math.pi * self.radius\n",
        "\n",
        "\n",
        "\n",
        "circle = Circle(5)\n",
        "\n",
        "print(\"円の面積:\", circle.area())\n",
        "print(\"円周の長さ:\", circle.circumference())"
      ],
      "metadata": {
        "colab": {
          "base_uri": "https://localhost:8080/"
        },
        "id": "oEacx0ciiGa5",
        "outputId": "aee221c1-4f0c-489f-f5e2-c6bbe336dbd6"
      },
      "execution_count": null,
      "outputs": [
        {
          "output_type": "stream",
          "name": "stdout",
          "text": [
            "円の面積: 78.53981633974483\n",
            "演習の長さ: 31.41592653589793\n"
          ]
        }
      ]
    },
    {
      "cell_type": "markdown",
      "source": [
        "### 簡易アプリケーション"
      ],
      "metadata": {
        "id": "1Ja0TNDVjkst"
      }
    },
    {
      "cell_type": "code",
      "source": [
        "# 身長（cm）と体重（kg）を入力として受け取り、BMI（Body Mass Index）を計算して表示するアプリケーションを作成してください。\n",
        "\n",
        "def calculate_bmi(height_cm, weight_kg):\n",
        "    height_m = height_cm / 100\n",
        "    bmi = weight_kg / (height_m ** 2)\n",
        "\n",
        "    return bmi\n",
        "\n",
        "def main():\n",
        "    height_cm = float(input(\"身長(cm)を入れて下さい: \"))\n",
        "    weight_kg = float(input(\"体重(kg)を入れて下さい: \"))\n",
        "\n",
        "    bmi = calculate_bmi(height_cm, weight_kg)\n",
        "    print(\"あなたのBMIは {:.2f} です。\".format(bmi))\n",
        "\n",
        "if __name__ == \"__main__\":\n",
        "    main()"
      ],
      "metadata": {
        "id": "jfxCp1B5jASP",
        "colab": {
          "base_uri": "https://localhost:8080/"
        },
        "outputId": "dd7b6565-1118-4f33-b2d8-c6b04bfe91c6"
      },
      "execution_count": 31,
      "outputs": [
        {
          "output_type": "stream",
          "name": "stdout",
          "text": [
            "身長(cm)を入れて下さい: 177\n",
            "体重(kg)を入れて下さい: 57.5\n",
            "あなたのBMIは 18.35 です。\n"
          ]
        }
      ]
    },
    {
      "cell_type": "code",
      "source": [],
      "metadata": {
        "id": "kwQr6SqwplKU"
      },
      "execution_count": null,
      "outputs": []
    },
    {
      "cell_type": "code",
      "source": [],
      "metadata": {
        "id": "_OPjlXw5qf54"
      },
      "execution_count": null,
      "outputs": []
    }
  ]
}